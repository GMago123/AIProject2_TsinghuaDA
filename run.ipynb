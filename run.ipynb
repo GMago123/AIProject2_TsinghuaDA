{
 "cells": [
  {
   "cell_type": "code",
   "execution_count": 2,
   "metadata": {},
   "outputs": [
    {
     "name": "stdout",
     "output_type": "stream",
     "text": [
      "<Storage{'modelName': 'unet', 'loss': 'bce', 'pretrained_path': None, 'model_save_path': 'results/model_saves', 'eval': None, 'res_save_path': 'results/result_saves', 'data_dir': './../q2_data/train/', 'gpu_ids': [0], 'n_channels': 3, 'n_classes': 1, 'feature_maps': 32, 'bilinear': False, 'early_stop': 6, 'scheduler': True, 'scheduler_criterion': 'f1', 'valid': 0.15, 'optim': 'rmsprop', 'lr': 0.0001, 'momentum': 0.9, 'weight_decay': 1e-08, 'epochs': 40, 'save_epochs': 5, 'save_figure_path': './figure', 'center_enforcement': False, 'display': True, 'BLUR_KERNEL': 3, 'MORPH_KERNEL': 3, 'MORPH_ITERATIONS': 3, 'DIST_THRESHOLD': 0.5, 'BG_THRESHOLD': 0.3, 'FG_THRESHOLD': 0.83, 'REAL_THRESHOLD': 0.5, 'crop_size': 384, 'crop': True, 'batch_size': 10, 'using_cuda': True, 'device': device(type='cuda', index=0), 'cur_time': 1, 'seed': 11}>\n",
      "Epoch 1/40: 100%|████████████| 5/5 [00:02<00:00,  2.18batch/s, loss(epoch)=0.63]\n",
      "Epoch 2/40: 100%|███████████| 5/5 [00:02<00:00,  2.46batch/s, loss(epoch)=0.485]\n",
      "Epoch 3/40: 100%|███████████| 5/5 [00:02<00:00,  2.32batch/s, loss(epoch)=0.412]\n",
      "Epoch 4/40: 100%|███████████| 5/5 [00:02<00:00,  2.47batch/s, loss(epoch)=0.365]\n",
      "Epoch 5/40: 100%|████████████| 5/5 [00:02<00:00,  2.45batch/s, loss(epoch)=0.34]\n",
      "Epoch 6/40: 100%|███████████| 5/5 [00:02<00:00,  2.41batch/s, loss(epoch)=0.335]\n",
      "Epoch 7/40: 100%|███████████| 5/5 [00:02<00:00,  2.42batch/s, loss(epoch)=0.329]\n",
      "Epoch 8/40: 100%|███████████| 5/5 [00:02<00:00,  2.35batch/s, loss(epoch)=0.328]\n",
      "Epoch 9/40: 100%|███████████| 5/5 [00:01<00:00,  2.53batch/s, loss(epoch)=0.326]\n",
      "Epoch 10/40: 100%|██████████| 5/5 [00:02<00:00,  2.43batch/s, loss(epoch)=0.319]\n",
      "Epoch 11/40: 100%|███████████| 5/5 [00:01<00:00,  2.74batch/s, loss(epoch)=0.32]\n",
      "Epoch 12/40: 100%|██████████| 5/5 [00:02<00:00,  2.49batch/s, loss(epoch)=0.321]\n",
      "Epoch 13/40: 100%|██████████| 5/5 [00:02<00:00,  2.40batch/s, loss(epoch)=0.319]\n",
      "Epoch 14/40: 100%|██████████| 5/5 [00:02<00:00,  2.34batch/s, loss(epoch)=0.319]\n",
      "Epoch 15/40: 100%|██████████| 5/5 [00:02<00:00,  2.38batch/s, loss(epoch)=0.318]\n",
      "Epoch 16/40: 100%|██████████| 5/5 [00:02<00:00,  2.24batch/s, loss(epoch)=0.318]\n",
      "Epoch 17/40: 100%|██████████| 5/5 [00:02<00:00,  2.43batch/s, loss(epoch)=0.322]\n",
      "Epoch 18/40: 100%|██████████| 5/5 [00:02<00:00,  2.36batch/s, loss(epoch)=0.317]\n",
      "Epoch 19/40: 100%|██████████| 5/5 [00:02<00:00,  2.44batch/s, loss(epoch)=0.318]\n",
      "Epoch 20/40: 100%|██████████| 5/5 [00:01<00:00,  2.53batch/s, loss(epoch)=0.315]\n",
      "Epoch 21/40: 100%|██████████| 5/5 [00:01<00:00,  2.57batch/s, loss(epoch)=0.316]\n",
      "Epoch 22/40: 100%|██████████| 5/5 [00:01<00:00,  2.52batch/s, loss(epoch)=0.317]\n",
      "Epoch 23/40: 100%|██████████| 5/5 [00:02<00:00,  2.25batch/s, loss(epoch)=0.318]\n",
      "Epoch 24/40: 100%|███████████| 5/5 [00:02<00:00,  2.29batch/s, loss(epoch)=0.32]\n",
      "Epoch 25/40: 100%|██████████| 5/5 [00:02<00:00,  2.46batch/s, loss(epoch)=0.315]\n",
      "Epoch 26/40: 100%|██████████| 5/5 [00:02<00:00,  2.26batch/s, loss(epoch)=0.313]\n",
      "Epoch 27/40: 100%|██████████| 5/5 [00:02<00:00,  2.26batch/s, loss(epoch)=0.314]\n",
      "Epoch 28/40: 100%|██████████| 5/5 [00:02<00:00,  2.46batch/s, loss(epoch)=0.315]\n",
      "Epoch 29/40: 100%|██████████| 5/5 [00:01<00:00,  2.51batch/s, loss(epoch)=0.321]\n",
      "Epoch 30/40: 100%|██████████| 5/5 [00:02<00:00,  2.42batch/s, loss(epoch)=0.313]\n",
      "Epoch 31/40: 100%|██████████| 5/5 [00:02<00:00,  2.32batch/s, loss(epoch)=0.315]\n",
      "Epoch 32/40: 100%|██████████| 5/5 [00:02<00:00,  2.49batch/s, loss(epoch)=0.315]\n",
      "Epoch 33/40: 100%|██████████| 5/5 [00:02<00:00,  2.44batch/s, loss(epoch)=0.316]\n",
      "Epoch 34/40: 100%|██████████| 5/5 [00:02<00:00,  2.45batch/s, loss(epoch)=0.316]\n",
      "Epoch 35/40: 100%|██████████| 5/5 [00:01<00:00,  2.51batch/s, loss(epoch)=0.311]\n",
      "Epoch 36/40: 100%|██████████| 5/5 [00:02<00:00,  2.48batch/s, loss(epoch)=0.314]\n",
      "Epoch 37/40: 100%|██████████| 5/5 [00:02<00:00,  2.26batch/s, loss(epoch)=0.312]\n",
      "Epoch 38/40: 100%|██████████| 5/5 [00:02<00:00,  2.47batch/s, loss(epoch)=0.315]\n",
      "Epoch 39/40: 100%|██████████| 5/5 [00:01<00:00,  2.55batch/s, loss(epoch)=0.314]\n",
      "Epoch 40/40: 100%|██████████| 5/5 [00:01<00:00,  2.74batch/s, loss(epoch)=0.314]\n",
      "Testing images in ./../q2_data/train/\n",
      "saving probability results to results/result_saves\n",
      "<Storage{'modelName': 'unet', 'loss': 'bce', 'pretrained_path': None, 'model_save_path': 'results/model_saves', 'eval': None, 'res_save_path': 'results/result_saves', 'data_dir': './../q2_data/train/', 'gpu_ids': [0], 'n_channels': 3, 'n_classes': 1, 'feature_maps': 32, 'bilinear': False, 'early_stop': 6, 'scheduler': True, 'scheduler_criterion': 'f1', 'valid': 0.15, 'optim': 'rmsprop', 'lr': 0.0001, 'momentum': 0.9, 'weight_decay': 1e-08, 'epochs': 40, 'save_epochs': 5, 'save_figure_path': './figure', 'center_enforcement': False, 'display': True, 'BLUR_KERNEL': 3, 'MORPH_KERNEL': 3, 'MORPH_ITERATIONS': 3, 'DIST_THRESHOLD': 0.5, 'BG_THRESHOLD': 0.3, 'FG_THRESHOLD': 0.83, 'REAL_THRESHOLD': 0.5, 'crop_size': 384, 'crop': True, 'batch_size': 10, 'using_cuda': True, 'device': device(type='cuda', index=0), 'cur_time': 2, 'seed': 111, 'save': True}>\n",
      "Epoch 1/40: 100%|███████████| 5/5 [00:02<00:00,  2.22batch/s, loss(epoch)=0.645]\n",
      "Epoch 2/40: 100%|███████████| 5/5 [00:02<00:00,  2.45batch/s, loss(epoch)=0.492]\n",
      "Epoch 3/40: 100%|████████████| 5/5 [00:02<00:00,  2.46batch/s, loss(epoch)=0.42]\n",
      "Epoch 4/40: 100%|███████████| 5/5 [00:01<00:00,  2.60batch/s, loss(epoch)=0.374]\n",
      "Epoch 5/40: 100%|███████████| 5/5 [00:02<00:00,  2.42batch/s, loss(epoch)=0.335]\n",
      "Epoch 6/40: 100%|███████████| 5/5 [00:02<00:00,  2.37batch/s, loss(epoch)=0.308]\n",
      "Epoch 7/40: 100%|███████████| 5/5 [00:02<00:00,  2.43batch/s, loss(epoch)=0.279]\n",
      "Epoch 8/40: 100%|███████████| 5/5 [00:02<00:00,  2.24batch/s, loss(epoch)=0.264]\n",
      "Epoch 9/40: 100%|███████████| 5/5 [00:02<00:00,  2.10batch/s, loss(epoch)=0.248]\n",
      "Epoch 10/40: 100%|██████████| 5/5 [00:02<00:00,  2.23batch/s, loss(epoch)=0.243]\n",
      "Epoch 11/40: 100%|██████████| 5/5 [00:01<00:00,  2.55batch/s, loss(epoch)=0.232]\n",
      "Epoch 12/40: 100%|██████████| 5/5 [00:02<00:00,  2.26batch/s, loss(epoch)=0.223]\n",
      "Epoch 13/40: 100%|██████████| 5/5 [00:02<00:00,  2.43batch/s, loss(epoch)=0.222]\n",
      "Epoch 14/40: 100%|██████████| 5/5 [00:02<00:00,  2.25batch/s, loss(epoch)=0.217]\n",
      "Epoch 15/40: 100%|██████████| 5/5 [00:02<00:00,  2.48batch/s, loss(epoch)=0.206]\n",
      "Epoch 16/40: 100%|██████████| 5/5 [00:01<00:00,  2.64batch/s, loss(epoch)=0.199]\n",
      "Epoch 17/40: 100%|██████████| 5/5 [00:01<00:00,  2.76batch/s, loss(epoch)=0.201]\n",
      "Epoch 18/40: 100%|██████████| 5/5 [00:02<00:00,  2.47batch/s, loss(epoch)=0.189]\n",
      "Epoch 19/40: 100%|██████████| 5/5 [00:02<00:00,  2.40batch/s, loss(epoch)=0.187]\n",
      "Epoch 20/40: 100%|██████████| 5/5 [00:02<00:00,  2.46batch/s, loss(epoch)=0.189]\n",
      "Epoch 21/40: 100%|██████████| 5/5 [00:02<00:00,  2.47batch/s, loss(epoch)=0.182]\n",
      "Epoch 22/40: 100%|██████████| 5/5 [00:02<00:00,  2.24batch/s, loss(epoch)=0.178]\n",
      "Epoch 23/40: 100%|██████████| 5/5 [00:02<00:00,  2.26batch/s, loss(epoch)=0.181]\n",
      "Epoch 24/40: 100%|██████████| 5/5 [00:02<00:00,  2.24batch/s, loss(epoch)=0.175]\n",
      "Epoch 25/40: 100%|██████████| 5/5 [00:02<00:00,  2.26batch/s, loss(epoch)=0.175]\n",
      "Epoch 26/40: 100%|██████████| 5/5 [00:02<00:00,  2.26batch/s, loss(epoch)=0.176]\n",
      "Epoch 27/40: 100%|██████████| 5/5 [00:02<00:00,  2.23batch/s, loss(epoch)=0.181]\n",
      "Epoch 28/40: 100%|██████████| 5/5 [00:01<00:00,  2.78batch/s, loss(epoch)=0.171]\n",
      "Epoch 29/40: 100%|██████████| 5/5 [00:01<00:00,  2.85batch/s, loss(epoch)=0.171]\n",
      "Epoch 30/40: 100%|██████████| 5/5 [00:02<00:00,  2.48batch/s, loss(epoch)=0.168]\n",
      "Early stop at epoch:29\n",
      "Testing images in ./../q2_data/train/\n",
      "saving probability results to results/result_saves\n",
      "<Storage{'modelName': 'unet', 'loss': 'bce', 'pretrained_path': None, 'model_save_path': 'results/model_saves', 'eval': None, 'res_save_path': 'results/result_saves', 'data_dir': './../q2_data/train/', 'gpu_ids': [0], 'n_channels': 3, 'n_classes': 1, 'feature_maps': 32, 'bilinear': False, 'early_stop': 6, 'scheduler': True, 'scheduler_criterion': 'f1', 'valid': 0.15, 'optim': 'rmsprop', 'lr': 0.0001, 'momentum': 0.9, 'weight_decay': 1e-08, 'epochs': 40, 'save_epochs': 5, 'save_figure_path': './figure', 'center_enforcement': False, 'display': True, 'BLUR_KERNEL': 3, 'MORPH_KERNEL': 3, 'MORPH_ITERATIONS': 3, 'DIST_THRESHOLD': 0.5, 'BG_THRESHOLD': 0.3, 'FG_THRESHOLD': 0.83, 'REAL_THRESHOLD': 0.5, 'crop_size': 384, 'crop': True, 'batch_size': 10, 'using_cuda': True, 'device': device(type='cuda', index=0), 'cur_time': 3, 'seed': 1111, 'save': True}>\n"
     ]
    },
    {
     "name": "stdout",
     "output_type": "stream",
     "text": [
      "Epoch 1/40: 100%|███████████| 5/5 [00:02<00:00,  2.31batch/s, loss(epoch)=0.567]\n",
      "Epoch 2/40: 100%|███████████| 5/5 [00:02<00:00,  2.34batch/s, loss(epoch)=0.432]\n",
      "Epoch 3/40: 100%|███████████| 5/5 [00:02<00:00,  2.32batch/s, loss(epoch)=0.374]\n",
      "Epoch 4/40: 100%|███████████| 5/5 [00:02<00:00,  2.29batch/s, loss(epoch)=0.335]\n",
      "Epoch 5/40: 100%|███████████| 5/5 [00:02<00:00,  2.44batch/s, loss(epoch)=0.311]\n",
      "Epoch 6/40: 100%|███████████| 5/5 [00:01<00:00,  2.85batch/s, loss(epoch)=0.305]\n",
      "Epoch 7/40: 100%|███████████| 5/5 [00:01<00:00,  2.55batch/s, loss(epoch)=0.303]\n",
      "Epoch 8/40: 100%|███████████| 5/5 [00:02<00:00,  2.34batch/s, loss(epoch)=0.298]\n",
      "Epoch 9/40: 100%|███████████| 5/5 [00:02<00:00,  2.48batch/s, loss(epoch)=0.299]\n",
      "Epoch 10/40: 100%|██████████| 5/5 [00:02<00:00,  2.28batch/s, loss(epoch)=0.292]\n",
      "Epoch 11/40: 100%|██████████| 5/5 [00:01<00:00,  2.58batch/s, loss(epoch)=0.295]\n",
      "Epoch 12/40: 100%|██████████| 5/5 [00:01<00:00,  2.52batch/s, loss(epoch)=0.288]\n",
      "Epoch 13/40: 100%|██████████| 5/5 [00:01<00:00,  2.53batch/s, loss(epoch)=0.286]\n",
      "Epoch 14/40: 100%|██████████| 5/5 [00:01<00:00,  2.56batch/s, loss(epoch)=0.288]\n",
      "Epoch 15/40: 100%|███████████| 5/5 [00:02<00:00,  2.32batch/s, loss(epoch)=0.29]\n",
      "Early stop at epoch:14\n",
      "Testing images in ./../q2_data/train/\n",
      "saving probability results to results/result_saves\n",
      "Results are saved to results/result_saves/2020-12-13-12-06-10-unet.csv...\n"
     ]
    }
   ],
   "source": [
    "!python run.py --modelName unet --loss bceloss --data_dir ./../q2_data/train/"
   ]
  },
  {
   "cell_type": "code",
   "execution_count": 5,
   "metadata": {},
   "outputs": [
    {
     "name": "stdout",
     "output_type": "stream",
     "text": [
      "^C\r\n",
      "Traceback (most recent call last):\r\n",
      "  File \"run.py\", line 131, in <module>\r\n",
      "    recognize(seeds=[1111])\r\n",
      "  File \"run.py\", line 125, in recognize\r\n",
      "    eval(args)\r\n",
      "  File \"/home/liwei/notebook/AILesson/AIProject2/eval.py\", line 147, in eval\r\n",
      "    net.to(device=args.device)\r\n",
      "  File \"/home/liwei/anaconda3/lib/python3.8/site-packages/torch/nn/modules/module.py\", line 612, in to\r\n",
      "    return self._apply(convert)\r\n",
      "  File \"/home/liwei/anaconda3/lib/python3.8/site-packages/torch/nn/modules/module.py\", line 359, in _apply\r\n",
      "    module._apply(fn)\r\n",
      "  File \"/home/liwei/anaconda3/lib/python3.8/site-packages/torch/nn/modules/module.py\", line 359, in _apply\r\n",
      "    module._apply(fn)\r\n",
      "  File \"/home/liwei/anaconda3/lib/python3.8/site-packages/torch/nn/modules/module.py\", line 359, in _apply\r\n",
      "    module._apply(fn)\r\n",
      "  [Previous line repeated 2 more times]\r\n",
      "  File \"/home/liwei/anaconda3/lib/python3.8/site-packages/torch/nn/modules/module.py\", line 402, in _apply\r\n",
      "    self._buffers[key] = fn(buf)\r\n",
      "  File \"/home/liwei/anaconda3/lib/python3.8/site-packages/torch/nn/modules/module.py\", line 610, in convert\r\n",
      "    return t.to(device, dtype if t.is_floating_point() else None, non_blocking)\r\n",
      "KeyboardInterrupt\r\n"
     ]
    }
   ],
   "source": [
    "!python run.py --modelName unet --eval ./results/model_saves/unet-2020-12-12.pth --data_dir ./../q2_data/train/"
   ]
  },
  {
   "cell_type": "code",
   "execution_count": null,
   "metadata": {},
   "outputs": [],
   "source": []
  }
 ],
 "metadata": {
  "kernelspec": {
   "display_name": "Python 3",
   "language": "python",
   "name": "python3"
  },
  "language_info": {
   "codemirror_mode": {
    "name": "ipython",
    "version": 3
   },
   "file_extension": ".py",
   "mimetype": "text/x-python",
   "name": "python",
   "nbconvert_exporter": "python",
   "pygments_lexer": "ipython3",
   "version": "3.8.5"
  }
 },
 "nbformat": 4,
 "nbformat_minor": 4
}
