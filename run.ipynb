{
 "cells": [
  {
   "cell_type": "code",
   "execution_count": 6,
   "metadata": {},
   "outputs": [
    {
     "name": "stdout",
     "output_type": "stream",
     "text": [
      "<Storage{'modelName': 'unet', 'loss': 'bce', 'pretrained_path': None, 'model_save_path': 'results/model_saves', 'eval': None, 'res_save_path': 'results/result_saves', 'data_dir': './../q2_data/train/', 'gpu_ids': [0], 'n_channels': 3, 'n_classes': 1, 'feature_maps': 32, 'bilinear': False, 'early_stop': 6, 'scheduler': True, 'scheduler_criterion': 'accuracy', 'valid': 0.15, 'optim': 'rmsprop', 'lr': 0.0001, 'momentum': 0.9, 'weight_decay': 1e-08, 'epochs': 40, 'save_epochs': 5, 'save_figure_path': './figure', 'center_enforcement': False, 'display': True, 'BLUR_KERNEL': 3, 'MORPH_KERNEL': 3, 'MORPH_ITERATIONS': 3, 'DIST_THRESHOLD': 0.5, 'BG_THRESHOLD': 0.3, 'FG_THRESHOLD': 0.83, 'REAL_THRESHOLD': 0.5, 'crop_size': 256, 'crop': True, 'batch_size': 5, 'using_cuda': True, 'device': device(type='cuda', index=0), 'cur_time': 1, 'seed': 11}>\n",
      "Epoch 1/40: 100%|█████████| 10/10 [00:05<00:00,  1.71batch/s, loss(epoch)=0.562]\n",
      "Epoch 2/40: 100%|█████████| 10/10 [00:05<00:00,  1.81batch/s, loss(epoch)=0.404]\n",
      "Epoch 3/40: 100%|█████████| 10/10 [00:04<00:00,  2.21batch/s, loss(epoch)=0.324]\n",
      "Epoch 4/40: 100%|██████████| 10/10 [00:03<00:00,  3.24batch/s, loss(epoch)=0.28]\n",
      "Epoch 5/40: 100%|█████████| 10/10 [00:05<00:00,  1.90batch/s, loss(epoch)=0.259]\n",
      "Epoch 6/40: 100%|█████████| 10/10 [00:02<00:00,  3.40batch/s, loss(epoch)=0.247]\n",
      "Epoch 7/40: 100%|█████████| 10/10 [00:03<00:00,  2.77batch/s, loss(epoch)=0.236]\n",
      "Epoch 8/40: 100%|█████████| 10/10 [00:05<00:00,  1.94batch/s, loss(epoch)=0.214]\n",
      "Epoch 9/40: 100%|█████████| 10/10 [00:05<00:00,  1.80batch/s, loss(epoch)=0.208]\n",
      "Epoch 10/40: 100%|████████| 10/10 [00:05<00:00,  2.00batch/s, loss(epoch)=0.205]\n",
      "Epoch 11/40: 100%|████████| 10/10 [00:03<00:00,  2.54batch/s, loss(epoch)=0.205]\n",
      "Epoch 12/40: 100%|████████| 10/10 [00:04<00:00,  2.41batch/s, loss(epoch)=0.201]\n",
      "Epoch 13/40: 100%|██████████| 10/10 [00:04<00:00,  2.09batch/s, loss(epoch)=0.2]\n",
      "Epoch 14/40: 100%|█████████| 10/10 [00:02<00:00,  3.64batch/s, loss(epoch)=0.19]\n",
      "Epoch 15/40: 100%|████████| 10/10 [00:03<00:00,  2.80batch/s, loss(epoch)=0.179]\n",
      "Epoch 16/40: 100%|██████████| 10/10 [00:03<00:00,  2.90batch/s, loss(epoch)=0.2]\n",
      "Epoch 17/40: 100%|████████| 10/10 [00:04<00:00,  2.35batch/s, loss(epoch)=0.189]\n",
      "Epoch 18/40: 100%|████████| 10/10 [00:04<00:00,  2.21batch/s, loss(epoch)=0.179]\n",
      "Epoch 19/40: 100%|████████| 10/10 [00:02<00:00,  3.38batch/s, loss(epoch)=0.179]\n",
      "Epoch 20/40: 100%|████████| 10/10 [00:04<00:00,  2.07batch/s, loss(epoch)=0.175]\n",
      "Epoch 21/40: 100%|████████| 10/10 [00:03<00:00,  2.56batch/s, loss(epoch)=0.175]\n",
      "Epoch 22/40: 100%|████████| 10/10 [00:04<00:00,  2.34batch/s, loss(epoch)=0.168]\n",
      "Epoch 23/40: 100%|████████| 10/10 [00:04<00:00,  2.29batch/s, loss(epoch)=0.181]\n",
      "Epoch 24/40: 100%|████████| 10/10 [00:04<00:00,  2.21batch/s, loss(epoch)=0.175]\n",
      "Epoch 25/40: 100%|████████| 10/10 [00:04<00:00,  2.27batch/s, loss(epoch)=0.173]\n",
      "Epoch 26/40: 100%|████████| 10/10 [00:02<00:00,  3.34batch/s, loss(epoch)=0.172]\n",
      "Epoch 27/40: 100%|████████| 10/10 [00:06<00:00,  1.58batch/s, loss(epoch)=0.166]\n",
      "Epoch 28/40: 100%|████████| 10/10 [00:04<00:00,  2.04batch/s, loss(epoch)=0.173]\n",
      "Epoch 29/40: 100%|████████| 10/10 [00:04<00:00,  2.33batch/s, loss(epoch)=0.184]\n",
      "Epoch 30/40: 100%|████████| 10/10 [00:03<00:00,  3.14batch/s, loss(epoch)=0.171]\n",
      "Early stop at epoch:29\n",
      "Testing images in ./../q2_data/train/\n",
      "saving probability results to results/result_saves\n",
      "<Storage{'modelName': 'unet', 'loss': 'bce', 'pretrained_path': None, 'model_save_path': 'results/model_saves', 'eval': None, 'res_save_path': 'results/result_saves', 'data_dir': './../q2_data/train/', 'gpu_ids': [0], 'n_channels': 3, 'n_classes': 1, 'feature_maps': 32, 'bilinear': False, 'early_stop': 6, 'scheduler': True, 'scheduler_criterion': 'accuracy', 'valid': 0.15, 'optim': 'rmsprop', 'lr': 0.0001, 'momentum': 0.9, 'weight_decay': 1e-08, 'epochs': 40, 'save_epochs': 5, 'save_figure_path': './figure', 'center_enforcement': False, 'display': True, 'BLUR_KERNEL': 3, 'MORPH_KERNEL': 3, 'MORPH_ITERATIONS': 3, 'DIST_THRESHOLD': 0.5, 'BG_THRESHOLD': 0.3, 'FG_THRESHOLD': 0.83, 'REAL_THRESHOLD': 0.5, 'crop_size': 256, 'crop': True, 'batch_size': 5, 'using_cuda': True, 'device': device(type='cuda', index=0), 'cur_time': 2, 'seed': 111, 'save': True}>\n",
      "Epoch 1/40: 100%|█████████| 10/10 [00:05<00:00,  1.82batch/s, loss(epoch)=0.584]\n",
      "Epoch 2/40: 100%|█████████| 10/10 [00:04<00:00,  2.18batch/s, loss(epoch)=0.403]\n",
      "Epoch 3/40: 100%|█████████| 10/10 [00:04<00:00,  2.09batch/s, loss(epoch)=0.332]\n",
      "Epoch 4/40: 100%|█████████| 10/10 [00:02<00:00,  3.47batch/s, loss(epoch)=0.283]\n",
      "Epoch 5/40: 100%|█████████| 10/10 [00:04<00:00,  2.01batch/s, loss(epoch)=0.259]\n",
      "Epoch 6/40: 100%|█████████| 10/10 [00:04<00:00,  2.06batch/s, loss(epoch)=0.262]\n",
      "Epoch 7/40: 100%|█████████| 10/10 [00:05<00:00,  1.99batch/s, loss(epoch)=0.234]\n",
      "Epoch 8/40: 100%|█████████| 10/10 [00:04<00:00,  2.45batch/s, loss(epoch)=0.226]\n",
      "Epoch 9/40: 100%|█████████| 10/10 [00:02<00:00,  3.75batch/s, loss(epoch)=0.216]\n",
      "Epoch 10/40: 100%|█████████| 10/10 [00:04<00:00,  2.03batch/s, loss(epoch)=0.22]\n",
      "Epoch 11/40: 100%|████████| 10/10 [00:04<00:00,  2.20batch/s, loss(epoch)=0.213]\n",
      "Epoch 12/40: 100%|████████| 10/10 [00:06<00:00,  1.54batch/s, loss(epoch)=0.209]\n",
      "Epoch 13/40: 100%|████████| 10/10 [00:05<00:00,  1.94batch/s, loss(epoch)=0.216]\n",
      "Epoch 14/40: 100%|████████| 10/10 [00:05<00:00,  1.75batch/s, loss(epoch)=0.212]\n",
      "Epoch 15/40: 100%|████████| 10/10 [00:04<00:00,  2.03batch/s, loss(epoch)=0.211]\n",
      "Early stop at epoch:14\n",
      "Testing images in ./../q2_data/train/\n",
      "saving probability results to results/result_saves\n",
      "<Storage{'modelName': 'unet', 'loss': 'bce', 'pretrained_path': None, 'model_save_path': 'results/model_saves', 'eval': None, 'res_save_path': 'results/result_saves', 'data_dir': './../q2_data/train/', 'gpu_ids': [0], 'n_channels': 3, 'n_classes': 1, 'feature_maps': 32, 'bilinear': False, 'early_stop': 6, 'scheduler': True, 'scheduler_criterion': 'accuracy', 'valid': 0.15, 'optim': 'rmsprop', 'lr': 0.0001, 'momentum': 0.9, 'weight_decay': 1e-08, 'epochs': 40, 'save_epochs': 5, 'save_figure_path': './figure', 'center_enforcement': False, 'display': True, 'BLUR_KERNEL': 3, 'MORPH_KERNEL': 3, 'MORPH_ITERATIONS': 3, 'DIST_THRESHOLD': 0.5, 'BG_THRESHOLD': 0.3, 'FG_THRESHOLD': 0.83, 'REAL_THRESHOLD': 0.5, 'crop_size': 256, 'crop': True, 'batch_size': 5, 'using_cuda': True, 'device': device(type='cuda', index=0), 'cur_time': 3, 'seed': 1111, 'save': True}>\n",
      "Epoch 1/40: 100%|█████████| 10/10 [00:03<00:00,  3.01batch/s, loss(epoch)=0.506]\n",
      "Epoch 2/40: 100%|█████████| 10/10 [00:04<00:00,  2.19batch/s, loss(epoch)=0.366]\n",
      "Epoch 3/40: 100%|█████████| 10/10 [00:05<00:00,  1.92batch/s, loss(epoch)=0.305]\n",
      "Epoch 4/40: 100%|█████████| 10/10 [00:03<00:00,  2.80batch/s, loss(epoch)=0.268]\n",
      "Epoch 5/40: 100%|█████████| 10/10 [00:04<00:00,  2.35batch/s, loss(epoch)=0.248]\n",
      "Epoch 6/40: 100%|█████████| 10/10 [00:04<00:00,  2.33batch/s, loss(epoch)=0.229]\n",
      "Epoch 7/40: 100%|█████████| 10/10 [00:04<00:00,  2.02batch/s, loss(epoch)=0.234]\n",
      "Epoch 8/40: 100%|█████████| 10/10 [00:03<00:00,  2.83batch/s, loss(epoch)=0.222]\n",
      "Epoch 9/40: 100%|█████████| 10/10 [00:03<00:00,  2.56batch/s, loss(epoch)=0.214]\n",
      "Epoch 10/40: 100%|████████| 10/10 [00:05<00:00,  1.76batch/s, loss(epoch)=0.204]\n",
      "Epoch 11/40: 100%|████████| 10/10 [00:05<00:00,  1.87batch/s, loss(epoch)=0.204]\n",
      "Epoch 12/40: 100%|████████| 10/10 [00:03<00:00,  2.95batch/s, loss(epoch)=0.197]\n",
      "Epoch 13/40: 100%|████████| 10/10 [00:03<00:00,  2.69batch/s, loss(epoch)=0.195]\n",
      "Epoch 14/40: 100%|████████| 10/10 [00:04<00:00,  2.35batch/s, loss(epoch)=0.193]\n",
      "Epoch 15/40: 100%|████████| 10/10 [00:03<00:00,  2.66batch/s, loss(epoch)=0.194]\n",
      "Epoch 16/40: 100%|████████| 10/10 [00:05<00:00,  1.69batch/s, loss(epoch)=0.193]\n",
      "Epoch 17/40: 100%|████████| 10/10 [00:04<00:00,  2.05batch/s, loss(epoch)=0.194]\n",
      "Epoch 18/40: 100%|████████| 10/10 [00:06<00:00,  1.61batch/s, loss(epoch)=0.195]\n",
      "Epoch 19/40: 100%|████████| 10/10 [00:02<00:00,  3.36batch/s, loss(epoch)=0.198]\n",
      "Epoch 20/40: 100%|██████████| 10/10 [00:02<00:00,  3.38batch/s, loss(epoch)=0.2]\n",
      "Epoch 21/40: 100%|████████| 10/10 [00:03<00:00,  2.87batch/s, loss(epoch)=0.195]\n"
     ]
    },
    {
     "name": "stdout",
     "output_type": "stream",
     "text": [
      "Epoch 22/40: 100%|█████████| 10/10 [00:03<00:00,  2.98batch/s, loss(epoch)=0.19]\n",
      "Epoch 23/40: 100%|████████| 10/10 [00:02<00:00,  3.69batch/s, loss(epoch)=0.193]\n",
      "Epoch 24/40: 100%|████████| 10/10 [00:05<00:00,  1.70batch/s, loss(epoch)=0.192]\n",
      "Epoch 25/40: 100%|████████| 10/10 [00:04<00:00,  2.09batch/s, loss(epoch)=0.206]\n",
      "Epoch 26/40: 100%|████████| 10/10 [00:04<00:00,  2.47batch/s, loss(epoch)=0.189]\n",
      "Epoch 27/40: 100%|████████| 10/10 [00:03<00:00,  2.56batch/s, loss(epoch)=0.196]\n",
      "Epoch 28/40: 100%|████████| 10/10 [00:03<00:00,  3.28batch/s, loss(epoch)=0.196]\n",
      "Epoch 29/40: 100%|████████| 10/10 [00:04<00:00,  2.26batch/s, loss(epoch)=0.192]\n",
      "Epoch 30/40: 100%|████████| 10/10 [00:03<00:00,  2.75batch/s, loss(epoch)=0.205]\n",
      "Epoch 31/40: 100%|████████| 10/10 [00:05<00:00,  1.97batch/s, loss(epoch)=0.197]\n",
      "Early stop at epoch:30\n",
      "Testing images in ./../q2_data/train/\n",
      "saving probability results to results/result_saves\n",
      "Results are saved to results/result_saves/2020-12-12-00-54-41-unet.csv...\n"
     ]
    }
   ],
   "source": [
    "!python run.py --modelName unet --loss bceloss --data_dir ./../q2_data/train/"
   ]
  },
  {
   "cell_type": "code",
   "execution_count": 5,
   "metadata": {},
   "outputs": [
    {
     "name": "stdout",
     "output_type": "stream",
     "text": [
      "^C\r\n",
      "Traceback (most recent call last):\r\n",
      "  File \"run.py\", line 131, in <module>\r\n",
      "    recognize(seeds=[1111])\r\n",
      "  File \"run.py\", line 125, in recognize\r\n",
      "    eval(args)\r\n",
      "  File \"/home/liwei/notebook/AILesson/AIProject2/eval.py\", line 147, in eval\r\n",
      "    net.to(device=args.device)\r\n",
      "  File \"/home/liwei/anaconda3/lib/python3.8/site-packages/torch/nn/modules/module.py\", line 612, in to\r\n",
      "    return self._apply(convert)\r\n",
      "  File \"/home/liwei/anaconda3/lib/python3.8/site-packages/torch/nn/modules/module.py\", line 359, in _apply\r\n",
      "    module._apply(fn)\r\n",
      "  File \"/home/liwei/anaconda3/lib/python3.8/site-packages/torch/nn/modules/module.py\", line 359, in _apply\r\n",
      "    module._apply(fn)\r\n",
      "  File \"/home/liwei/anaconda3/lib/python3.8/site-packages/torch/nn/modules/module.py\", line 359, in _apply\r\n",
      "    module._apply(fn)\r\n",
      "  [Previous line repeated 2 more times]\r\n",
      "  File \"/home/liwei/anaconda3/lib/python3.8/site-packages/torch/nn/modules/module.py\", line 402, in _apply\r\n",
      "    self._buffers[key] = fn(buf)\r\n",
      "  File \"/home/liwei/anaconda3/lib/python3.8/site-packages/torch/nn/modules/module.py\", line 610, in convert\r\n",
      "    return t.to(device, dtype if t.is_floating_point() else None, non_blocking)\r\n",
      "KeyboardInterrupt\r\n"
     ]
    }
   ],
   "source": [
    "!python run.py --modelName unet --eval ./results/model_saves/unet-2020-12-12.pth --data_dir ./../q2_data/train/"
   ]
  },
  {
   "cell_type": "code",
   "execution_count": null,
   "metadata": {},
   "outputs": [],
   "source": []
  }
 ],
 "metadata": {
  "kernelspec": {
   "display_name": "Python 3",
   "language": "python",
   "name": "python3"
  },
  "language_info": {
   "codemirror_mode": {
    "name": "ipython",
    "version": 3
   },
   "file_extension": ".py",
   "mimetype": "text/x-python",
   "name": "python",
   "nbconvert_exporter": "python",
   "pygments_lexer": "ipython3",
   "version": "3.8.5"
  }
 },
 "nbformat": 4,
 "nbformat_minor": 4
}
