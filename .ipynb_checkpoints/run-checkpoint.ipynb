{
 "cells": [
  {
   "cell_type": "code",
   "execution_count": 3,
   "metadata": {},
   "outputs": [
    {
     "name": "stdout",
     "output_type": "stream",
     "text": [
      "<Storage{'modelName': 'unet', 'loss': 'bce', 'pretrained_path': None, 'model_save_path': 'results/model_saves', 'eval': None, 'res_save_path': 'results/result_saves', 'data_dir': './../q2_data/train/', 'gpu_ids': [0], 'n_channels': 3, 'n_classes': 1, 'feature_maps': 32, 'bilinear': False, 'early_stop': 10, 'scheduler': True, 'scheduler_criterion': 'accuracy', 'valid': 0.15, 'optim': 'rmsprop', 'lr': 0.0001, 'momentum': 0.9, 'weight_decay': 1e-08, 'epochs': 20, 'save_epochs': 5, 'save_figure_path': './figure', 'center_enforcement': False, 'display': True, 'BLUR_KERNEL': 3, 'MORPH_KERNEL': 3, 'MORPH_ITERATIONS': 3, 'DIST_THRESHOLD': 0.5, 'BG_THRESHOLD': 0.3, 'FG_THRESHOLD': 0.83, 'REAL_THRESHOLD': 0.5, 'crop_size': 256, 'crop': True, 'batch_size': 5, 'using_cuda': True, 'device': device(type='cuda', index=0), 'cur_time': 1, 'seed': 1111}>\n",
      "Epoch 1/20: 100%|█████████| 10/10 [00:06<00:00,  1.56batch/s, loss(epoch)=0.506]\n",
      "Epoch 2/20: 100%|█████████| 10/10 [00:04<00:00,  2.10batch/s, loss(epoch)=0.366]\n",
      "Epoch 3/20: 100%|█████████| 10/10 [00:04<00:00,  2.02batch/s, loss(epoch)=0.305]\n",
      "Epoch 4/20: 100%|█████████| 10/10 [00:05<00:00,  1.68batch/s, loss(epoch)=0.268]\n",
      "Epoch 5/20: 100%|█████████| 10/10 [00:04<00:00,  2.28batch/s, loss(epoch)=0.248]\n",
      "Epoch 6/20: 100%|█████████| 10/10 [00:05<00:00,  1.76batch/s, loss(epoch)=0.229]\n",
      "Epoch 7/20: 100%|█████████| 10/10 [00:04<00:00,  2.13batch/s, loss(epoch)=0.234]\n",
      "Epoch 8/20: 100%|█████████| 10/10 [00:04<00:00,  2.10batch/s, loss(epoch)=0.222]\n",
      "Epoch 9/20: 100%|█████████| 10/10 [00:03<00:00,  3.06batch/s, loss(epoch)=0.214]\n",
      "Epoch 10/20: 100%|████████| 10/10 [00:05<00:00,  1.88batch/s, loss(epoch)=0.204]\n",
      "Epoch 11/20: 100%|████████| 10/10 [00:05<00:00,  1.91batch/s, loss(epoch)=0.204]\n",
      "Epoch 12/20: 100%|████████| 10/10 [00:05<00:00,  1.95batch/s, loss(epoch)=0.197]\n",
      "Epoch 13/20: 100%|████████| 10/10 [00:04<00:00,  2.03batch/s, loss(epoch)=0.195]\n",
      "Epoch 14/20: 100%|████████| 10/10 [00:06<00:00,  1.59batch/s, loss(epoch)=0.193]\n",
      "Epoch 15/20: 100%|████████| 10/10 [00:03<00:00,  2.71batch/s, loss(epoch)=0.194]\n",
      "Epoch 16/20: 100%|████████| 10/10 [00:06<00:00,  1.60batch/s, loss(epoch)=0.193]\n",
      "Epoch 17/20: 100%|████████| 10/10 [00:05<00:00,  1.71batch/s, loss(epoch)=0.194]\n",
      "Epoch 18/20: 100%|████████| 10/10 [00:05<00:00,  1.87batch/s, loss(epoch)=0.195]\n",
      "Epoch 19/20: 100%|████████| 10/10 [00:04<00:00,  2.08batch/s, loss(epoch)=0.198]\n",
      "Epoch 20/20: 100%|██████████| 10/10 [00:06<00:00,  1.47batch/s, loss(epoch)=0.2]\n",
      "Testing images in ./../q2_data/train/\n",
      "saving probability results to results/result_saves\n",
      "Results are saved to results/result_saves/2020-12-11 15:48:08-unet.csv...\n"
     ]
    }
   ],
   "source": [
    "!python run.py --modelName unet --loss bceloss --data_dir ./../q2_data/train/"
   ]
  },
  {
   "cell_type": "code",
   "execution_count": 5,
   "metadata": {},
   "outputs": [
    {
     "name": "stdout",
     "output_type": "stream",
     "text": [
      "^C\r\n",
      "Traceback (most recent call last):\r\n",
      "  File \"run.py\", line 131, in <module>\r\n",
      "    recognize(seeds=[1111])\r\n",
      "  File \"run.py\", line 125, in recognize\r\n",
      "    eval(args)\r\n",
      "  File \"/home/liwei/notebook/AILesson/AIProject2/eval.py\", line 147, in eval\r\n",
      "    net.to(device=args.device)\r\n",
      "  File \"/home/liwei/anaconda3/lib/python3.8/site-packages/torch/nn/modules/module.py\", line 612, in to\r\n",
      "    return self._apply(convert)\r\n",
      "  File \"/home/liwei/anaconda3/lib/python3.8/site-packages/torch/nn/modules/module.py\", line 359, in _apply\r\n",
      "    module._apply(fn)\r\n",
      "  File \"/home/liwei/anaconda3/lib/python3.8/site-packages/torch/nn/modules/module.py\", line 359, in _apply\r\n",
      "    module._apply(fn)\r\n",
      "  File \"/home/liwei/anaconda3/lib/python3.8/site-packages/torch/nn/modules/module.py\", line 359, in _apply\r\n",
      "    module._apply(fn)\r\n",
      "  [Previous line repeated 2 more times]\r\n",
      "  File \"/home/liwei/anaconda3/lib/python3.8/site-packages/torch/nn/modules/module.py\", line 402, in _apply\r\n",
      "    self._buffers[key] = fn(buf)\r\n",
      "  File \"/home/liwei/anaconda3/lib/python3.8/site-packages/torch/nn/modules/module.py\", line 610, in convert\r\n",
      "    return t.to(device, dtype if t.is_floating_point() else None, non_blocking)\r\n",
      "KeyboardInterrupt\r\n"
     ]
    }
   ],
   "source": [
    "!python run.py --modelName unet --eval ./results/model_saves/unet-2020-12-10-epoch15.pth --data_dir ./../q2_data/train/"
   ]
  },
  {
   "cell_type": "code",
   "execution_count": null,
   "metadata": {},
   "outputs": [],
   "source": []
  }
 ],
 "metadata": {
  "kernelspec": {
   "display_name": "Python 3",
   "language": "python",
   "name": "python3"
  },
  "language_info": {
   "codemirror_mode": {
    "name": "ipython",
    "version": 3
   },
   "file_extension": ".py",
   "mimetype": "text/x-python",
   "name": "python",
   "nbconvert_exporter": "python",
   "pygments_lexer": "ipython3",
   "version": "3.8.5"
  }
 },
 "nbformat": 4,
 "nbformat_minor": 4
}
