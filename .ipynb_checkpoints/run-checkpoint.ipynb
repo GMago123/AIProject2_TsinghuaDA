{
 "cells": [
  {
   "cell_type": "code",
   "execution_count": 5,
   "metadata": {},
   "outputs": [
    {
     "name": "stdout",
     "output_type": "stream",
     "text": [
      "<Storage{'modelName': 'unet', 'loss': 'bce', 'pretrained_path': None, 'model_save_path': 'results/model_saves', 'eval': None, 'res_save_path': 'results/result_saves', 'data_dir': './../q2_data/train/', 'gpu_ids': [0], 'n_channels': 3, 'n_classes': 1, 'feature_maps': 32, 'bilinear': False, 'early_stop': 10, 'scheduler': True, 'valid': 0.15, 'val_batches': 10, 'optim': 'rmsprop', 'lr': 0.0001, 'momentum': 0.9, 'weight_decay': 1e-08, 'epochs': 20, 'save_epochs': 5, 'save_figure_path': './figure', 'center_enforcement': False, 'display': True, 'BLUR_KERNEL': 3, 'MORPH_KERNEL': 3, 'MORPH_ITERATIONS': 3, 'DIST_THRESHOLD': 0.5, 'BG_THRESHOLD': 0.3, 'FG_THRESHOLD': 0.83, 'REAL_THRESHOLD': 0.5, 'crop_size': 256, 'crop': True, 'batch_size': 5, 'using_cuda': True, 'device': device(type='cuda', index=0), 'cur_time': 1, 'seed': 1111}>\n",
      "Epoch 1/20: 100%|█████████| 10/10 [00:12<00:00,  1.29s/batch, loss(epoch)=0.499]\n",
      "Epoch 2/20: 100%|█████████| 10/10 [00:11<00:00,  1.20s/batch, loss(epoch)=0.361]\n",
      "Epoch 3/20: 100%|█████████| 10/10 [00:12<00:00,  1.22s/batch, loss(epoch)=0.306]\n",
      "Epoch 4/20: 100%|██████████| 10/10 [00:12<00:00,  1.28s/batch, loss(epoch)=0.27]\n",
      "Epoch 5/20: 100%|██████████| 10/10 [00:12<00:00,  1.22s/batch, loss(epoch)=0.25]\n",
      "Epoch 6/20: 100%|█████████| 10/10 [00:12<00:00,  1.26s/batch, loss(epoch)=0.228]\n",
      "Epoch 7/20: 100%|█████████| 10/10 [00:11<00:00,  1.19s/batch, loss(epoch)=0.235]\n",
      "Epoch 8/20: 100%|█████████| 10/10 [00:11<00:00,  1.19s/batch, loss(epoch)=0.222]\n",
      "Epoch 9/20: 100%|█████████| 10/10 [00:12<00:00,  1.28s/batch, loss(epoch)=0.209]\n",
      "Epoch 10/20: 100%|████████| 10/10 [00:11<00:00,  1.14s/batch, loss(epoch)=0.201]\n",
      "Epoch 11/20: 100%|████████| 10/10 [00:12<00:00,  1.21s/batch, loss(epoch)=0.199]\n",
      "Epoch 12/20: 100%|████████| 10/10 [00:13<00:00,  1.32s/batch, loss(epoch)=0.192]\n",
      "Epoch 13/20: 100%|████████| 10/10 [00:13<00:00,  1.35s/batch, loss(epoch)=0.189]\n",
      "Epoch 14/20: 100%|████████| 10/10 [00:12<00:00,  1.23s/batch, loss(epoch)=0.189]\n",
      "Epoch 15/20: 100%|█████████| 10/10 [00:10<00:00,  1.08s/batch, loss(epoch)=0.19]\n",
      "Epoch 16/20: 100%|█████████| 10/10 [00:12<00:00,  1.25s/batch, loss(epoch)=0.19]\n",
      "Epoch 17/20: 100%|█████████| 10/10 [00:12<00:00,  1.23s/batch, loss(epoch)=0.19]\n",
      "Epoch 18/20: 100%|████████| 10/10 [00:11<00:00,  1.14s/batch, loss(epoch)=0.191]\n",
      "Epoch 19/20: 100%|████████| 10/10 [00:10<00:00,  1.02s/batch, loss(epoch)=0.193]\n",
      "Epoch 20/20: 100%|████████| 10/10 [00:08<00:00,  1.15batch/s, loss(epoch)=0.195]\n",
      "Results are saved to results/result_saves/2020-12-10 18:41:54-unet.csv...\n"
     ]
    }
   ],
   "source": [
    "!python run.py --modelName unet --loss bceloss --data_dir ./../q2_data/train/"
   ]
  },
  {
   "cell_type": "code",
   "execution_count": 15,
   "metadata": {},
   "outputs": [
    {
     "name": "stdout",
     "output_type": "stream",
     "text": [
      "[]\r\n"
     ]
    }
   ],
   "source": [
    "!python run.py --modelName unet --eval ./results/model_saves/unet-2020-12-10-epoch15.pth --data_dir ./../q2_data/train/"
   ]
  },
  {
   "cell_type": "code",
   "execution_count": null,
   "metadata": {},
   "outputs": [],
   "source": []
  }
 ],
 "metadata": {
  "kernelspec": {
   "display_name": "Python 3",
   "language": "python",
   "name": "python3"
  },
  "language_info": {
   "codemirror_mode": {
    "name": "ipython",
    "version": 3
   },
   "file_extension": ".py",
   "mimetype": "text/x-python",
   "name": "python",
   "nbconvert_exporter": "python",
   "pygments_lexer": "ipython3",
   "version": "3.8.5"
  }
 },
 "nbformat": 4,
 "nbformat_minor": 4
}
